{
 "cells": [
  {
   "cell_type": "markdown",
   "metadata": {},
   "source": [
    "## Marker-API\n",
    "\n",
    "This notebook goes over how to invoke the api using python and save the response as markdown"
   ]
  },
  {
   "cell_type": "code",
   "execution_count": 14,
   "metadata": {},
   "outputs": [],
   "source": [
    "# !pip install requests pillow "
   ]
  },
  {
   "cell_type": "code",
   "execution_count": 12,
   "metadata": {},
   "outputs": [],
   "source": [
    "import os\n",
    "import requests\n",
    "from PIL import Image\n",
    "import base64\n",
    "import argparse\n",
    "\n",
    "def save_images_and_markdown(response_data, output_folder):\n",
    "    # Create output folder if it doesn't exist\n",
    "    os.makedirs(output_folder, exist_ok=True)\n",
    "\n",
    "    for pdf in response_data:\n",
    "        pdf_filename = pdf['filename']\n",
    "        pdf_output_folder = os.path.join(output_folder, os.path.splitext(pdf_filename)[0])\n",
    "\n",
    "        # Create a folder for each PDF\n",
    "        os.makedirs(pdf_output_folder, exist_ok=True)\n",
    "\n",
    "        # Save markdown\n",
    "        markdown_text = pdf['markdown']\n",
    "        with open(os.path.join(pdf_output_folder, 'output.md'), 'w', encoding='utf-8') as f:\n",
    "            f.write(markdown_text)\n",
    "\n",
    "        # Save images\n",
    "        image_data = pdf['images']\n",
    "        for image_name, image_base64 in image_data.items():\n",
    "            # Decode base64 image\n",
    "            image_bytes = base64.b64decode(image_base64)\n",
    "\n",
    "            # Save image\n",
    "            with open(os.path.join(pdf_output_folder, image_name), 'wb') as f:\n",
    "                f.write(image_bytes)\n",
    "\n",
    "def convert_pdf_to_markdown_and_save(pdf_file_paths, output_folder, server_url):\n",
    "    files = []\n",
    "    \n",
    "    # Prepare the files for the request\n",
    "    for pdf_file_path in pdf_file_paths:\n",
    "        with open(pdf_file_path, 'rb') as f:\n",
    "            pdf_content = f.read()\n",
    "        files.append(('pdf_files', (os.path.basename(pdf_file_path), pdf_content, 'application/pdf')))\n",
    "        \n",
    "    # Send request to FastAPI server with all PDF files attached\n",
    "    response = requests.post(server_url, files=files)\n",
    "\n",
    "    # Check if request was successful\n",
    "    if response.status_code == 200:\n",
    "        # Save markdown and images\n",
    "        response_data = response.json()\n",
    "        save_images_and_markdown(response_data, output_folder)\n",
    "        print(\"Markdown and images saved successfully.\")\n",
    "    else:\n",
    "        print(f\"Error: {response.text}\")\n",
    "        "
   ]
  },
  {
   "cell_type": "markdown",
   "metadata": {},
   "source": [
    "#### Convert a Simple file and save it as Markdown"
   ]
  },
  {
   "cell_type": "code",
   "execution_count": 11,
   "metadata": {},
   "outputs": [
    {
     "name": "stdout",
     "output_type": "stream",
     "text": [
      "Markdown and images saved successfully.\n"
     ]
    }
   ],
   "source": [
    "\n",
    "pdf_file_paths = [\"test.pdf\"]\n",
    "output_folder = \"output_folder\"\n",
    "server_url = \"http://127.0.0.1:8000/convert\"\n",
    "\n",
    "# Convert PDF to markdown and save\n",
    "convert_pdf_to_markdown_and_save(pdf_file_paths, output_folder, server_url)"
   ]
  },
  {
   "cell_type": "markdown",
   "metadata": {},
   "source": [
    "#### Convert Multiple PDF files and save them as markdown"
   ]
  },
  {
   "cell_type": "code",
   "execution_count": 13,
   "metadata": {},
   "outputs": [
    {
     "name": "stdout",
     "output_type": "stream",
     "text": [
      "Markdown and images saved successfully.\n"
     ]
    }
   ],
   "source": [
    "pdf_file_paths = [\"test.pdf\", \"test2.pdf\"]\n",
    "output_folder = \"output_folder\"\n",
    "server_url = \"http://127.0.0.1:8000/convert\"\n",
    "\n",
    "# Convert PDF to markdown and save\n",
    "convert_pdf_to_markdown_and_save(pdf_file_paths, output_folder, server_url)"
   ]
  }
 ],
 "metadata": {
  "kernelspec": {
   "display_name": "marker-pdf-niVR2zW_-py3.11",
   "language": "python",
   "name": "python3"
  },
  "language_info": {
   "codemirror_mode": {
    "name": "ipython",
    "version": 3
   },
   "file_extension": ".py",
   "mimetype": "text/x-python",
   "name": "python",
   "nbconvert_exporter": "python",
   "pygments_lexer": "ipython3",
   "version": "3.11.0"
  }
 },
 "nbformat": 4,
 "nbformat_minor": 2
}
